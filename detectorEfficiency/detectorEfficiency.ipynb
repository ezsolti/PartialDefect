{
 "cells": [
  {
   "cell_type": "markdown",
   "metadata": {},
   "source": [
    "# Intro\n",
    "\n",
    "This notebook is to show how one can calculate a detector efficiency curve quickly.\n",
    "\n",
    "We take the 'input_templateGX' Serpent2 input file template, create couple of similar files with different source energies, and run it. (the file itself has a simple HPGe detector model and a beam source shooting towards it.\n",
    "\n",
    "Then we read the detector files, and fit a curve to the full peaks vs energy.\n",
    "\n",
    "Note, in this example i have use a beam source, however for Part II of this study, one might want to include some surface source, and maybe even include the absorber sheets directly in the Serpent calculations."
   ]
  },
  {
   "cell_type": "markdown",
   "metadata": {},
   "source": [
    "## Create several input files"
   ]
  },
  {
   "cell_type": "code",
   "execution_count": null,
   "metadata": {},
   "outputs": [],
   "source": [
    "import numpy as np\n",
    "\n",
    "energies=np.linspace(40,1927.86,25)\n",
    "\n",
    "bashstr=''\n",
    "refinp=open('input_templateGX').read()\n",
    "for en in energies:\n",
    "    newinp=refinp.replace('EnStr',str(en/1000))\n",
    "    newfile=open('simulations3/input%d'%en,'w')\n",
    "    newfile.write(newinp)\n",
    "    newfile.close()\n",
    "    bashstr=bashstr+'sss2 -omp 64 input%d\\n'%en\n",
    "    \n",
    "bashfile=open('simulations3/run.sh','w')\n",
    "bashfile.write(bashstr)\n",
    "bashfile.close()\n",
    "    "
   ]
  },
  {
   "cell_type": "markdown",
   "metadata": {},
   "source": [
    "Now one should execute the run.sh bash file, and the detector outputs will be produced by serpent. Since the outputs are included with this notebook, one can start executing the cells from now on.\n",
    "\n",
    "## Read detector outputs\n",
    "We loop through the files, take the spectra, find the location of the maximum, and the sum it with the neigbouring bins."
   ]
  },
  {
   "cell_type": "code",
   "execution_count": 1,
   "metadata": {},
   "outputs": [
    {
     "data": {
      "image/png": "[encoded data removed]",
      "text/plain": [
       "<Figure size 432x288 with 1 Axes>"
      ]
     },
     "metadata": {
      "needs_background": "light"
     },
     "output_type": "display_data"
    }
   ],
   "source": [
    "import matplotlib.pyplot as plt\n",
    "import numpy as np\n",
    "\n",
    "energies=np.linspace(40,1927.86,25)\n",
    "\n",
    "peaks=[]\n",
    "for en in energies:\n",
    "    spectrumfile=open('simulations3/input%d_det0.m'%en).readlines()[2:4098]\n",
    "    \n",
    "    spectrum=[]\n",
    "    for sp in spectrumfile:\n",
    "        spectrum.append(float(sp.strip().split()[10]))\n",
    "    \n",
    "    ai=spectrum.index(max(spectrum))\n",
    "    if en!=2000:\n",
    "        peaks.append(spectrum[ai]+spectrum[ai-1]+spectrum[ai+1])\n",
    "    else:\n",
    "        peaks.append(spectrum[ai]+spectrum[ai-1])\n",
    "\n",
    "\n",
    "plt.figure()\n",
    "plt.plot(energies,peaks,'x')\n",
    "plt.xlabel('Energy (keV)')\n",
    "plt.ylabel('Efficiency')\n",
    "plt.show()"
   ]
  },
  {
   "cell_type": "markdown",
   "metadata": {},
   "source": [
    "## Curve fitting and defining a function\n",
    "\n",
    "note that it seems illogical that i work with keV in the whole notebook, but then i define the function for MeV, the reason is because in an other notebook I work with MeV units"
   ]
  },
  {
   "cell_type": "code",
   "execution_count": 2,
   "metadata": {},
   "outputs": [
    {
     "name": "stdout",
     "output_type": "stream",
     "text": [
      "[-8.02741343e-02 -1.49151904e-01 -2.84160334e-01  4.39778388e-02\n",
      "  1.19674986e-03  1.26102944e+02]\n"
     ]
    }
   ],
   "source": [
    "peaks=np.array(peaks)\n",
    "from scipy.optimize import curve_fit\n",
    "p1,p2=curve_fit(lambda E,a,b,c,d,e,f: a+b*np.log(E/f)+c*(np.log(E/f))**2+d*(np.log(E/f))**3+e*(np.log(E/f))**4,  energies,  np.log(peaks))\n",
    "print(p1)"
   ]
  },
  {
   "cell_type": "code",
   "execution_count": 3,
   "metadata": {},
   "outputs": [
    {
     "data": {
      "image/png": "[encoded data removed]",
      "text/plain": [
       "<Figure size 432x288 with 1 Axes>"
      ]
     },
     "metadata": {
      "needs_background": "light"
     },
     "output_type": "display_data"
    }
   ],
   "source": [
    "def detectorEffM(E):\n",
    "    E=E*1000 #change MeV to keV\n",
    "    a=-8.02741343e-02\n",
    "    b=-1.49151904e-01\n",
    "    c=-2.84160334e-01\n",
    "    d=4.39778388e-02\n",
    "    e=1.19674986e-03\n",
    "    f=1.26102944e+02\n",
    "    \n",
    "    lnEps=a+b*np.log(E/f)+c*(np.log(E/f))**2+d*(np.log(E/f))**3+e*(np.log(E/f))**4\n",
    "    \n",
    "    Eps=np.exp(lnEps)\n",
    "    return Eps\n",
    "\n",
    "plt.figure()\n",
    "plt.plot(energies,peaks,'x')\n",
    "plt.plot(1000*np.linspace(0.001,3,1000),detectorEffM(np.linspace(0.001,3,1000)))\n",
    "plt.show()"
   ]
  }
 ],
 "metadata": {
  "kernelspec": {
   "display_name": "Python 3",
   "language": "python",
   "name": "python3"
  },
  "language_info": {
   "codemirror_mode": {
    "name": "ipython",
    "version": 3
   },
   "file_extension": ".py",
   "mimetype": "text/x-python",
   "name": "python",
   "nbconvert_exporter": "python",
   "pygments_lexer": "ipython3",
   "version": "3.7.3"
  }
 },
 "nbformat": 4,
 "nbformat_minor": 4
}
